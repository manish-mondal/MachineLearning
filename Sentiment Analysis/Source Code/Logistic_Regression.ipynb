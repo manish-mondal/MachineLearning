{
  "cells": [
    {
      "cell_type": "code",
      "execution_count": null,
      "metadata": {
        "colab": {
          "background_save": true,
          "base_uri": "https://localhost:8080/"
        },
        "id": "l2utM0LTl7MW",
        "outputId": "762ade46-49fd-42a8-e879-d23ea2768ace"
      },
      "outputs": [
        {
          "name": "stdout",
          "output_type": "stream",
          "text": [
            "Mounted at /content/drive\n",
            "(10000, 17613)\n",
            "   usual                                            review_  polarity  \\\n",
            "0    0.0  I usually love going to this t-mobile. The rep...  0.207273   \n",
            "1    0.0  The store gave me misleading information.  One...  0.019444   \n",
            "2    0.0  Nice, stand-alone T-Mobile in the parking lot ...  0.433333   \n",
            "3    0.0  I get awesome service every time I come here. ...  0.221875   \n",
            "4    0.0  Very busy I waited for 45 min before even bein...  0.300000   \n",
            "\n",
            "          sentiment_  love   go  tmobil  repres  alway  nice  ...  200mbps  \\\n",
            "0  Slightly Positive   0.0  0.0     0.0     0.0    0.0   0.0  ...      0.0   \n",
            "1  Slightly Negative   0.0  0.0     0.0     0.0    0.0   0.0  ...      0.0   \n",
            "2           Positive   0.0  0.0     0.0     0.0    0.0   0.0  ...      0.0   \n",
            "3  Slightly Positive   0.0  0.0     0.0     0.0    0.0   0.0  ...      0.0   \n",
            "4  Slightly Positive   0.0  0.0     0.0     0.0    0.0   0.0  ...      0.0   \n",
            "\n",
            "   50mbps  starlink  sparklightcar  10100  17044  dvrs  22649   cn  \\\n",
            "0     0.0       0.0            0.0    0.0    0.0   0.0    0.0  0.0   \n",
            "1     0.0       0.0            0.0    0.0    0.0   0.0    0.0  0.0   \n",
            "2     0.0       0.0            0.0    0.0    0.0   0.0    0.0  0.0   \n",
            "3     0.0       0.0            0.0    0.0    0.0   0.0    0.0  0.0   \n",
            "4     0.0       0.0            0.0    0.0    0.0   0.0    0.0  0.0   \n",
            "\n",
            "   screendigit  \n",
            "0          0.0  \n",
            "1          0.0  \n",
            "2          0.0  \n",
            "3          0.0  \n",
            "4          0.0  \n",
            "\n",
            "[5 rows x 17613 columns]\n",
            "['Slightly Positive' 'Slightly Negative' 'Positive' 'Negative']\n"
          ]
        },
        {
          "name": "stderr",
          "output_type": "stream",
          "text": [
            "/usr/local/lib/python3.7/dist-packages/sklearn/linear_model/_logistic.py:818: ConvergenceWarning: lbfgs failed to converge (status=1):\n",
            "STOP: TOTAL NO. of ITERATIONS REACHED LIMIT.\n",
            "\n",
            "Increase the number of iterations (max_iter) or scale the data as shown in:\n",
            "    https://scikit-learn.org/stable/modules/preprocessing.html\n",
            "Please also refer to the documentation for alternative solver options:\n",
            "    https://scikit-learn.org/stable/modules/linear_model.html#logistic-regression\n",
            "  extra_warning_msg=_LOGISTIC_SOLVER_CONVERGENCE_MSG,\n"
          ]
        },
        {
          "name": "stdout",
          "output_type": "stream",
          "text": [
            "Accuracy Score:  0.6866666666666666\n",
            "\n"
          ]
        },
        {
          "data": {
            "image/png": "[encoded data removed]",
            "text/plain": [
              "<Figure size 720x720 with 2 Axes>"
            ]
          },
          "metadata": {},
          "output_type": "display_data"
        }
      ],
      "source": [
        "  import seaborn as sns\n",
        "import pandas as pd\n",
        "import matplotlib.pyplot as plt\n",
        "from sklearn.model_selection import     \n",
        "from sklearn.pipeline import Pipeline\n",
        "from sklearn.linear_model import LogisticRegression\n",
        "from sklearn.metrics import confusion_matrix, accuracy_score\n",
        "# from pycm import *\n",
        "from google.colab import drive\n",
        "drive.mount(\"/content/drive\",force_remount=True)\n",
        "INPUT_FILEBASE = \"/content/drive/MyDrive/yelp_dataset_in/\"\n",
        "OUTPUT_FILEBASE = \"/content/drive/MyDrive/yelp_dataset_out/\"\n",
        "\n",
        "pickle_name = \"yelp_reviews_Electronics_categories_final.pickle\"\n",
        "df1 = pd.read_pickle(\"%s%s\" %(OUTPUT_FILEBASE,pickle_name))\n",
        "print(df1.shape)\n",
        "df1 = df1[:10000]\n",
        "# csv_name = \"yelp_reviews_Electronics_categories_final.csv\"\n",
        "# df1 = pd.read_csv(\"%s%s\" %(OUTPUT_FILEBASE,csv_name))\n",
        "print(df1.head())\n",
        "print(df1[\"sentiment_\"].unique())\n",
        "# assert False\n",
        "# df1.dropna(subset=[\"sentiment\"],inplace=True)\n",
        "# assert False\n",
        "\n",
        "X = df1.iloc[0:,4:]\n",
        "y = df1.sentiment_\n",
        "\n",
        "Xtrain, Xtest, ytrain, ytest = train_test_split(X,y,random_state=0,test_size=0.3)\n",
        "\n",
        "clf2 = LogisticRegression(solver = 'lbfgs',max_iter=1000)\n",
        "model = Pipeline([('classifier',clf2)])\n",
        "model.fit(Xtrain, ytrain)\n",
        "predictions = model.predict(Xtest)\n",
        "mat = confusion_matrix(ytest,predictions)\n",
        "cm_df =  pd.DataFrame(mat, index= [i for i in ['Negative','Positive',\n",
        "                                               'Slightly Negative',\n",
        "                                              'Slightly Positive']],\n",
        "                     columns= [i for i in ['Negative','Positive',\n",
        "                                               'Slightly Negative',\n",
        "                                              'Slightly Positive']])\n",
        "plt.figure(figsize=(10,10))\n",
        "sns.heatmap(cm_df, annot=True,cmap='Blues',fmt='g')\n",
        "\n",
        "cm = confusion_matrix(list(ytest),list(predictions))\n",
        "print('Accuracy Score: ',accuracy_score(predictions,ytest))\n",
        "print('')\n",
        "# cm.stat(summary=True)\n"
      ]
    }
  ],
  "metadata": {
    "accelerator": "GPU",
    "colab": {
      "provenance": []
    },
    "gpuClass": "standard",
    "kernelspec": {
      "display_name": "Python 3",
      "name": "python3"
    },
    "language_info": {
      "name": "python"
    }
  },
  "nbformat": 4,
  "nbformat_minor": 0
}